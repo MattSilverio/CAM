{
 "cells": [
  {
   "cell_type": "code",
   "execution_count": 2,
   "metadata": {},
   "outputs": [
    {
     "data": {
      "text/plain": [
       "(1.584962500721156, 0.6500224216483541, 0.9910760598382222, 0.7303078961588811)"
      ]
     },
     "execution_count": 2,
     "metadata": {},
     "output_type": "execute_result"
    }
   ],
   "source": [
    "from sklearn.datasets import load_iris\n",
    "from sklearn.tree import DecisionTreeClassifier\n",
    "import numpy as np \n",
    "\n",
    "# Carregar o conjunto de dados Iris\n",
    "iris = load_iris()\n",
    "X = iris.data\n",
    "y = iris.target\n",
    "\n",
    "# Função para calcular a entropia de um conjunto de dados\n",
    "def entropy(y):\n",
    "    class_labels = np.unique(y)\n",
    "    ent = 0\n",
    "    for label in class_labels:\n",
    "        p = len(y[y == label]) / len(y)\n",
    "        ent -= p * np.log2(p)\n",
    "    return ent\n",
    "\n",
    "# Entropia antes de dividir\n",
    "initial_entropy = entropy(y)\n",
    "\n",
    "# Vamos escolher um atributo para dividir, neste caso, 'petal width' que é a coluna 3 do dataset\n",
    "# Vamos simular uma divisão do dataset utilizando a média da largura da pétala como ponto de corte\n",
    "petal_width = X[:, 3]\n",
    "mean_petal_width = np.mean(petal_width)\n",
    "\n",
    "# Dividir o conjunto de dados com base na largura média da pétala\n",
    "left_split = y[petal_width < mean_petal_width]\n",
    "right_split = y[petal_width >= mean_petal_width]\n",
    "\n",
    "# Entropia após a divisão\n",
    "left_entropy = entropy(left_split)\n",
    "right_entropy = entropy(right_split)\n",
    "\n",
    "# Ganho de Informação\n",
    "gain = initial_entropy - (len(left_split)/len(y) * left_entropy + len(right_split)/len(y) * right_entropy)\n",
    "\n",
    "initial_entropy, left_entropy, right_entropy, gain\n"
   ]
  }
 ],
 "metadata": {
  "kernelspec": {
   "display_name": "Python 3",
   "language": "python",
   "name": "python3"
  },
  "language_info": {
   "codemirror_mode": {
    "name": "ipython",
    "version": 3
   },
   "file_extension": ".py",
   "mimetype": "text/x-python",
   "name": "python",
   "nbconvert_exporter": "python",
   "pygments_lexer": "ipython3",
   "version": "3.10.12"
  }
 },
 "nbformat": 4,
 "nbformat_minor": 2
}
