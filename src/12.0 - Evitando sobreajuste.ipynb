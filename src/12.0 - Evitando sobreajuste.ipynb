{
 "cells": [
  {
   "cell_type": "code",
   "execution_count": 6,
   "metadata": {},
   "outputs": [
    {
     "name": "stdout",
     "output_type": "stream",
     "text": [
      "Score com todas as características: 0.9533333333333334 (±0.03399346342395189)\n",
      "Score com características selecionadas: 0.9600000000000002 (±0.03265986323710903)\n"
     ]
    }
   ],
   "source": [
    "from sklearn.datasets import load_iris\n",
    "from sklearn.model_selection import cross_val_score\n",
    "from sklearn.tree import DecisionTreeClassifier\n",
    "from sklearn.feature_selection import SelectKBest, f_classif\n",
    "import numpy as np\n",
    "\n",
    "# Carregar o conjunto de dados Iris\n",
    "iris = load_iris()\n",
    "X, y = iris.data, iris.target\n",
    "\n",
    "# Função para calcular a pontuação média da validação cruzada\n",
    "def evaluate_model(X, y, cv=5):\n",
    "    model = DecisionTreeClassifier(random_state=42)\n",
    "    scores = cross_val_score(model, X, y, cv=cv, scoring='accuracy')\n",
    "    return np.mean(scores), np.std(scores)\n",
    "\n",
    "# Avaliação do modelo com todas as características\n",
    "full_feature_score, full_feature_std = evaluate_model(X, y)\n",
    "\n",
    "# Seleção de características usando k melhores com ANOVA F-test\n",
    "selector = SelectKBest(f_classif, k=2)  # Vamos escolher as 2 melhores características\n",
    "X_selected = selector.fit_transform(X, y)\n",
    "\n",
    "# Avaliação do modelo após a seleção de características\n",
    "selected_feature_score, selected_feature_std = evaluate_model(X_selected, y)\n",
    "\n",
    "# Exibir resultados\n",
    "print(f\"Score com todas as características: {full_feature_score} (±{full_feature_std})\")\n",
    "print(f\"Score com características selecionadas: {selected_feature_score} (±{selected_feature_std})\")\n"
   ]
  }
 ],
 "metadata": {
  "kernelspec": {
   "display_name": "Python 3",
   "language": "python",
   "name": "python3"
  },
  "language_info": {
   "codemirror_mode": {
    "name": "ipython",
    "version": 3
   },
   "file_extension": ".py",
   "mimetype": "text/x-python",
   "name": "python",
   "nbconvert_exporter": "python",
   "pygments_lexer": "ipython3",
   "version": "3.10.12"
  }
 },
 "nbformat": 4,
 "nbformat_minor": 2
}
