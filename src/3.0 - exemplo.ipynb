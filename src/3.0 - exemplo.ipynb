{
 "cells": [
  {
   "cell_type": "code",
   "execution_count": null,
   "metadata": {},
   "outputs": [],
   "source": [
    "# Importando as bibliotecas necessárias\n",
    "import numpy as np\n",
    "import matplotlib.pyplot as plt\n",
    "from sklearn.linear_model import LinearRegression\n",
    "\n",
    "# Dados de exemplo\n",
    "# Horas de estudo\n",
    "X = np.array([1, 2, 3, 4, 5, 6, 7, 8, 9, 10]).reshape(-1, 1)\n",
    "# Notas obtidas\n",
    "y = np.array([2, 4, 5, 7, 10, 11, 14, 15, 19, 20])\n",
    "\n",
    "# Criando o modelo de regressão linear\n",
    "modelo = LinearRegression()\n",
    "# Treinando o modelo com os dados (horas de estudo e notas)\n",
    "modelo.fit(X, y)\n",
    "\n",
    "# Fazendo previsões usando o modelo treinado\n",
    "y_pred = modelo.predict(X)\n",
    "\n",
    "# Plotando os dados originais e a linha de regressão\n",
    "plt.scatter(X, y, color='blue')  # Dados originais\n",
    "plt.plot(X, y_pred, color='red')  # Linha de regressão\n",
    "plt.title('Relação entre Horas de Estudo e Notas')\n",
    "plt.xlabel('Horas de Estudo')\n",
    "plt.ylabel('Notas')\n",
    "plt.show()\n"
   ]
  }
 ],
 "metadata": {
  "kernelspec": {
   "display_name": "Python 3",
   "language": "python",
   "name": "python3"
  },
  "language_info": {
   "codemirror_mode": {
    "name": "ipython",
    "version": 3
   },
   "file_extension": ".py",
   "mimetype": "text/x-python",
   "name": "python",
   "nbconvert_exporter": "python",
   "pygments_lexer": "ipython3",
   "version": "3.10.12"
  }
 },
 "nbformat": 4,
 "nbformat_minor": 2
}
