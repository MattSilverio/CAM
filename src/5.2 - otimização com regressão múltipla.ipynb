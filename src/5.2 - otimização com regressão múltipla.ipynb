{
 "cells": [
  {
   "cell_type": "code",
   "execution_count": 1,
   "metadata": {},
   "outputs": [
    {
     "name": "stdout",
     "output_type": "stream",
     "text": [
      "Coeficientes: Intercepto = -5406.25, Visitantes = 2.38, Publicidade = 0.43\n",
      "Vendas previstas para 3500 visitantes e R$ 4500 em publicidade: R$ 4847.66\n"
     ]
    }
   ],
   "source": [
    "import numpy as np\n",
    "\n",
    "# Dados de exemplo\n",
    "X = np.array([[1000, 2000], [1500, 2500], [2000, 3000], [2500, 3500], [3000, 4000]])  # Visitantes e Publicidade\n",
    "Y = np.array([3000, 3500, 4000, 4500, 5000])  # Vendas\n",
    "\n",
    "# Adicionando uma coluna de 1s para o intercepto\n",
    "X = np.hstack((np.ones((X.shape[0], 1)), X))\n",
    "\n",
    "# Calculando os coeficientes (Beta) usando a fórmula de mínimos quadrados\n",
    "# Beta = (X'X)^(-1)X'Y\n",
    "Beta = np.linalg.inv(X.T @ X) @ X.T @ Y\n",
    "\n",
    "# Exibindo os coeficientes\n",
    "print(f\"Coeficientes: Intercepto = {Beta[0]:.2f}, Visitantes = {Beta[1]:.2f}, Publicidade = {Beta[2]:.2f}\")\n",
    "\n",
    "# Previsão para 3500 visitantes e R$ 4500 em publicidade\n",
    "X_pred = np.array([1, 3500, 4500])  # Incluindo o intercepto\n",
    "vendas_pred = X_pred @ Beta\n",
    "print(f\"Vendas previstas para 3500 visitantes e R$ 4500 em publicidade: R$ {vendas_pred:.2f}\")\n"
   ]
  }
 ],
 "metadata": {
  "kernelspec": {
   "display_name": "usr",
   "language": "python",
   "name": "python3"
  },
  "language_info": {
   "codemirror_mode": {
    "name": "ipython",
    "version": 3
   },
   "file_extension": ".py",
   "mimetype": "text/x-python",
   "name": "python",
   "nbconvert_exporter": "python",
   "pygments_lexer": "ipython3",
   "version": "3.12.3"
  }
 },
 "nbformat": 4,
 "nbformat_minor": 2
}
