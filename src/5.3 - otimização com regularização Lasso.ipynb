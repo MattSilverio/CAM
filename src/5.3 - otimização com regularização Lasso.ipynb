{
 "cells": [
  {
   "cell_type": "code",
   "execution_count": 1,
   "metadata": {},
   "outputs": [
    {
     "name": "stdout",
     "output_type": "stream",
     "text": [
      "MSE: 1.07\n",
      "Coeficientes: [ 0.          0.         -0.          0.15919728 -0.         -0.00601294\n",
      "  0.          0.          0.         -0.        ]\n",
      "Adesão ao tratamento prevista: -0.10\n"
     ]
    }
   ],
   "source": [
    "from sklearn.linear_model import Lasso\n",
    "from sklearn.model_selection import train_test_split\n",
    "from sklearn.metrics import mean_squared_error\n",
    "import numpy as np\n",
    "\n",
    "# Gerando dados de exemplo (substituir por dados reais)\n",
    "np.random.seed(0)\n",
    "X = np.random.randn(100, 10)  # 100 amostras, 10 variáveis\n",
    "Y = np.random.randn(100)  # 100 valores de resultado\n",
    "\n",
    "# Dividindo os dados em conjuntos de treino e teste\n",
    "X_train, X_test, Y_train, Y_test = train_test_split(X, Y, test_size=0.3, random_state=0)\n",
    "\n",
    "# Inicializando o modelo Lasso com um valor de alpha\n",
    "alpha = 0.1  # Este valor pode ser ajustado\n",
    "lasso = Lasso(alpha=alpha)\n",
    "\n",
    "# Treinando o modelo\n",
    "lasso.fit(X_train, Y_train)\n",
    "\n",
    "# Avaliando o modelo\n",
    "Y_pred = lasso.predict(X_test)\n",
    "mse = mean_squared_error(Y_test, Y_pred)\n",
    "print(f\"MSE: {mse:.2f}\")\n",
    "\n",
    "# Exibindo os coeficientes\n",
    "print(\"Coeficientes:\", lasso.coef_)\n",
    "\n",
    "# Previsão com dados novos (exemplo)\n",
    "X_novo = np.random.randn(1, 10)  # Novos dados de entrada\n",
    "adesao_prevista = lasso.predict(X_novo)\n",
    "print(f\"Adesão ao tratamento prevista: {adesao_prevista[0]:.2f}\")\n"
   ]
  }
 ],
 "metadata": {
  "kernelspec": {
   "display_name": "Python 3",
   "language": "python",
   "name": "python3"
  },
  "language_info": {
   "codemirror_mode": {
    "name": "ipython",
    "version": 3
   },
   "file_extension": ".py",
   "mimetype": "text/x-python",
   "name": "python",
   "nbconvert_exporter": "python",
   "pygments_lexer": "ipython3",
   "version": "3.10.12"
  }
 },
 "nbformat": 4,
 "nbformat_minor": 2
}
