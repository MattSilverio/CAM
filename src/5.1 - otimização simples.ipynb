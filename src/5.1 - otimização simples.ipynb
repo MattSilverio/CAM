{
 "cells": [
  {
   "cell_type": "code",
   "execution_count": 1,
   "metadata": {},
   "outputs": [
    {
     "name": "stdout",
     "output_type": "stream",
     "text": [
      "A equação da linha de melhor ajuste é: y = 1.00x + 30.00\n",
      "Tempo de resposta previsto para carga de CPU de 60%: 90.00 ms\n"
     ]
    }
   ],
   "source": [
    "# Dados de exemplo\n",
    "carga_cpu = [10, 20, 30, 40, 50]\n",
    "tempo_resposta = [40, 50, 60, 70, 80]\n",
    "\n",
    "# Calculando as somas necessárias\n",
    "sum_cpu = sum(carga_cpu)\n",
    "sum_resposta = sum(tempo_resposta)\n",
    "sum_cpu_resposta = sum(cpu*resposta for cpu, resposta in zip(carga_cpu, tempo_resposta))\n",
    "sum_cpu2 = sum(cpu**2 for cpu in carga_cpu)\n",
    "n = len(carga_cpu)\n",
    "\n",
    "# Calculando a inclinação (m) e o intercepto (b)\n",
    "m = (n * sum_cpu_resposta - sum_cpu * sum_resposta) / (n * sum_cpu2 - sum_cpu**2)\n",
    "b = (sum_resposta - m * sum_cpu) / n\n",
    "\n",
    "# Exibindo a equação da linha\n",
    "print(f\"A equação da linha de melhor ajuste é: y = {m:.2f}x + {b:.2f}\")\n",
    "\n",
    "# Previsão para carga de CPU de 60%\n",
    "carga_cpu_pred = 60\n",
    "tempo_resposta_pred = m * carga_cpu_pred + b\n",
    "print(f\"Tempo de resposta previsto para carga de CPU de {carga_cpu_pred}%: {tempo_resposta_pred:.2f} ms\")\n"
   ]
  }
 ],
 "metadata": {
  "kernelspec": {
   "display_name": "Python 3",
   "language": "python",
   "name": "python3"
  },
  "language_info": {
   "codemirror_mode": {
    "name": "ipython",
    "version": 3
   },
   "file_extension": ".py",
   "mimetype": "text/x-python",
   "name": "python",
   "nbconvert_exporter": "python",
   "pygments_lexer": "ipython3",
   "version": "3.10.12"
  }
 },
 "nbformat": 4,
 "nbformat_minor": 2
}
