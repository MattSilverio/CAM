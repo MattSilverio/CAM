{
 "cells": [
  {
   "cell_type": "code",
   "execution_count": 1,
   "metadata": {},
   "outputs": [
    {
     "name": "stdout",
     "output_type": "stream",
     "text": [
      "A equação da linha de melhor ajuste é: y = 0.60x + 2.20\n",
      "Nota prevista para 6 horas de estudo: 5.80\n"
     ]
    }
   ],
   "source": [
    "# Dados de exemplo\n",
    "horas_estudadas = [1, 2, 3, 4, 5]\n",
    "notas_obtidas = [2, 4, 5, 4, 5]\n",
    "\n",
    "# Calculando as somas necessárias\n",
    "sum_x = sum(horas_estudadas)\n",
    "sum_y = sum(notas_obtidas)\n",
    "sum_xy = sum(x*y for x, y in zip(horas_estudadas, notas_obtidas))\n",
    "sum_x2 = sum(x**2 for x in horas_estudadas)\n",
    "n = len(horas_estudadas)\n",
    "\n",
    "# Calculando a inclinação (m) e o intercepto (b)\n",
    "m = (n * sum_xy - sum_x * sum_y) / (n * sum_x2 - sum_x**2)\n",
    "b = (sum_y - m * sum_x) / n\n",
    "\n",
    "# Exibindo a equação da linha\n",
    "print(f\"A equação da linha de melhor ajuste é: y = {m:.2f}x + {b:.2f}\")\n",
    "\n",
    "# Para prever a nota com base nas horas estudadas, você pode usar a equação da linha.\n",
    "# Por exemplo, para prever a nota para 6 horas de estudo:\n",
    "horas_estudo = 6\n",
    "nota_prevista = m * horas_estudo + b\n",
    "print(f\"Nota prevista para {horas_estudo} horas de estudo: {nota_prevista:.2f}\")\n"
   ]
  }
 ],
 "metadata": {
  "kernelspec": {
   "display_name": "Python 3",
   "language": "python",
   "name": "python3"
  },
  "language_info": {
   "codemirror_mode": {
    "name": "ipython",
    "version": 3
   },
   "file_extension": ".py",
   "mimetype": "text/x-python",
   "name": "python",
   "nbconvert_exporter": "python",
   "pygments_lexer": "ipython3",
   "version": "3.10.12"
  }
 },
 "nbformat": 4,
 "nbformat_minor": 2
}
